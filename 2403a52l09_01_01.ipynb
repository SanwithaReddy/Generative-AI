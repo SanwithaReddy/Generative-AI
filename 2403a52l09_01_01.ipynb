{
  "nbformat": 4,
  "nbformat_minor": 0,
  "metadata": {
    "colab": {
      "provenance": [],
      "authorship_tag": "ABX9TyMiOpMU7XgovUddqxPE3Z/T",
      "include_colab_link": true
    },
    "kernelspec": {
      "name": "python3",
      "display_name": "Python 3"
    },
    "language_info": {
      "name": "python"
    }
  },
  "cells": [
    {
      "cell_type": "markdown",
      "metadata": {
        "id": "view-in-github",
        "colab_type": "text"
      },
      "source": [
        "<a href=\"https://colab.research.google.com/github/SanwithaReddy/Generative-AI/blob/main/2403a52l09_01_01.ipynb\" target=\"_parent\"><img src=\"https://colab.research.google.com/assets/colab-badge.svg\" alt=\"Open In Colab\"/></a>"
      ]
    },
    {
      "cell_type": "code",
      "source": [
        "import numpy as np\n",
        "from sklearn.metrics import mean_squared_error, mean_absolute_error, r2_score"
      ],
      "metadata": {
        "id": "4SQiEBKSnDXS"
      },
      "execution_count": 2,
      "outputs": []
    },
    {
      "cell_type": "code",
      "source": [
        "Yactual = [20,30,40,50,60]\n",
        "Ypredicted = [20.5,30.3,40.2,50.6,60.7]\n",
        "\n",
        "measured = np.array(Yactual)\n",
        "predicted = np.array(Ypredicted)\n",
        "\n",
        "print(\"Measured data:\", measured)\n",
        "print(\"Predicted data:\", predicted)"
      ],
      "metadata": {
        "colab": {
          "base_uri": "https://localhost:8080/"
        },
        "id": "v-1MWlDynDPB",
        "outputId": "9843f457-5d93-4c49-8d65-1deafc655dd7"
      },
      "execution_count": 12,
      "outputs": [
        {
          "output_type": "stream",
          "name": "stdout",
          "text": [
            "Measured data: [20 30 40 50 60]\n",
            "Predicted data: [20.5 30.3 40.2 50.6 60.7]\n"
          ]
        }
      ]
    },
    {
      "cell_type": "code",
      "source": [
        "mse = mean_squared_error(measured, predicted)\n"
      ],
      "metadata": {
        "id": "ok5j9G1YnDMr"
      },
      "execution_count": 11,
      "outputs": []
    },
    {
      "cell_type": "code",
      "source": [
        "rmse = np.sqrt(mse)"
      ],
      "metadata": {
        "id": "2gX406ACnDKI"
      },
      "execution_count": 13,
      "outputs": []
    },
    {
      "cell_type": "code",
      "source": [
        "mape = np.mean(np.abs((measured - predicted) / measured)) * 100"
      ],
      "metadata": {
        "id": "w_kNYQgUnDHr"
      },
      "execution_count": 14,
      "outputs": []
    },
    {
      "cell_type": "code",
      "source": [
        "r2 = r2_score(measured, predicted)"
      ],
      "metadata": {
        "id": "zRUKcRkqnDFJ"
      },
      "execution_count": 16,
      "outputs": []
    },
    {
      "cell_type": "code",
      "source": [
        "print(f\"Mean Square Error (MSE): {mse}\")\n",
        "print(f\"Root Mean Square Error (RMSE): {rmse}\")\n",
        "print(f\"Mean Absolute Percentage Error (MAPE): {mape}%\")\n",
        "print(f\"R-squared (R²): {r2}\")"
      ],
      "metadata": {
        "colab": {
          "base_uri": "https://localhost:8080/"
        },
        "id": "BQWDSS1DqApq",
        "outputId": "aa0b5fb9-ec54-4677-bbf7-c25541e39fe5"
      },
      "execution_count": 10,
      "outputs": [
        {
          "output_type": "stream",
          "name": "stdout",
          "text": [
            "Mean Square Error (MSE): 0.24600000000000147\n",
            "Root Mean Square Error (RMSE): 0.49598387070549127\n",
            "Mean Absolute Percentage Error (MAPE): 1.273333333333337%\n",
            "R-squared (R²): 0.99877\n"
          ]
        }
      ]
    }
  ]
}